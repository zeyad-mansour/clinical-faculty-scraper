{
 "cells": [
  {
   "cell_type": "markdown",
   "id": "6d66aabd-35b4-4b8a-9997-c73edf0b2f3f",
   "metadata": {},
   "source": [
    "## Task Description\n",
    "\n",
    "Navigate to the list of faculty in the Anesthesiology Department (be aware that each website is very different. For instance, the links for Upstate and Westchester are already linked to the Anesthesiology program, but you will have to navigate to the faculty page; the New Mexico website has to be filtered first in order to see just the anesthesiology faculty). \n",
    "\n",
    "\n",
    "Once you find the appropriate pages with the faculty listed, I would like you to create an excel file, where each institution as its own sheet. There should be four headers for each sheet: First Name, Last Name, Email, Error. The first name and last name of a clinician should be in the appropriate cell as well as their email (if scrapable). Error should remain blank for now. There should not be any other text in the first name or last name columns (no MD, DO, or any titles, just a single name in each). "
   ]
  },
  {
   "cell_type": "code",
   "execution_count": 1,
   "id": "62529469-52d1-4958-aec4-77e9d3d1eaf0",
   "metadata": {},
   "outputs": [
    {
     "data": {
      "text/plain": [
       "'/Library/Frameworks/Python.framework/Versions/3.10/bin/python3'"
      ]
     },
     "execution_count": 1,
     "metadata": {},
     "output_type": "execute_result"
    }
   ],
   "source": [
    "import sys\n",
    "sys.executable"
   ]
  },
  {
   "cell_type": "code",
   "execution_count": null,
   "id": "aaf0aac9-2e36-462d-bbd4-6adf02ca7300",
   "metadata": {},
   "outputs": [
    {
     "name": "stdout",
     "output_type": "stream",
     "text": [
      "Found existing installation: ipykernel 6.29.4\n",
      "Uninstalling ipykernel-6.29.4:\n",
      "  Would remove:\n",
      "    /opt/homebrew/lib/python3.11/site-packages/ipykernel-6.29.4.dist-info/*\n",
      "    /opt/homebrew/lib/python3.11/site-packages/ipykernel/*\n",
      "    /opt/homebrew/lib/python3.11/site-packages/ipykernel_launcher.py\n",
      "    /opt/homebrew/share/jupyter/kernels/python3/kernel.json\n",
      "    /opt/homebrew/share/jupyter/kernels/python3/logo-32x32.png\n",
      "    /opt/homebrew/share/jupyter/kernels/python3/logo-64x64.png\n",
      "    /opt/homebrew/share/jupyter/kernels/python3/logo-svg.svg\n",
      "Proceed (Y/n)? "
     ]
    }
   ],
   "source": [
    "# Install dependencies\n",
    "\n",
    "!pip install --upgrade pip\n",
    "!pip install beautifulsoup4\n",
    "!pip install pandas"
   ]
  },
  {
   "cell_type": "code",
   "execution_count": null,
   "id": "df8bca9d-1144-4c06-a282-bf5583ca0d43",
   "metadata": {},
   "outputs": [
    {
     "ename": "ModuleNotFoundError",
     "evalue": "No module named 'pandas'",
     "output_type": "error",
     "traceback": [
      "\u001b[0;31m---------------------------------------------------------------------------\u001b[0m",
      "\u001b[0;31mModuleNotFoundError\u001b[0m                       Traceback (most recent call last)",
      "Input \u001b[0;32mIn [3]\u001b[0m, in \u001b[0;36m<cell line: 4>\u001b[0;34m()\u001b[0m\n\u001b[1;32m      2\u001b[0m \u001b[38;5;28;01mfrom\u001b[39;00m \u001b[38;5;21;01mbs4\u001b[39;00m \u001b[38;5;28;01mimport\u001b[39;00m BeautifulSoup\n\u001b[1;32m      3\u001b[0m \u001b[38;5;28;01mimport\u001b[39;00m \u001b[38;5;21;01mrequests\u001b[39;00m\n\u001b[0;32m----> 4\u001b[0m \u001b[38;5;28;01mimport\u001b[39;00m \u001b[38;5;21;01mpandas\u001b[39;00m \u001b[38;5;28;01mas\u001b[39;00m \u001b[38;5;21;01mpd\u001b[39;00m\n\u001b[1;32m      6\u001b[0m \u001b[38;5;66;03m# Define URLs for each institution\u001b[39;00m\n\u001b[1;32m      7\u001b[0m urls \u001b[38;5;241m=\u001b[39m {\n\u001b[1;32m      8\u001b[0m     \u001b[38;5;124m\"\u001b[39m\u001b[38;5;124mUNM\u001b[39m\u001b[38;5;124m\"\u001b[39m: \u001b[38;5;124m\"\u001b[39m\u001b[38;5;124mhttps://hsc.unm.edu/directory/\u001b[39m\u001b[38;5;124m\"\u001b[39m,\n\u001b[1;32m      9\u001b[0m     \u001b[38;5;124m\"\u001b[39m\u001b[38;5;124mUpstate\u001b[39m\u001b[38;5;124m\"\u001b[39m: \u001b[38;5;124m\"\u001b[39m\u001b[38;5;124mhttps://www.upstate.edu/anesthesiology/about-us/index.php\u001b[39m\u001b[38;5;124m\"\u001b[39m,\n\u001b[1;32m     10\u001b[0m     \u001b[38;5;124m\"\u001b[39m\u001b[38;5;124mWestchester\u001b[39m\u001b[38;5;124m\"\u001b[39m: \u001b[38;5;124m\"\u001b[39m\u001b[38;5;124mhttps://www.westchestermedicalcenter.org/anesthesiology-residency-program\u001b[39m\u001b[38;5;124m\"\u001b[39m\n\u001b[1;32m     11\u001b[0m }\n",
      "\u001b[0;31mModuleNotFoundError\u001b[0m: No module named 'pandas'"
     ]
    }
   ],
   "source": [
    "# Import necessary libraries\n",
    "from bs4 import BeautifulSoup\n",
    "import requests\n",
    "import pandas as pd\n",
    "\n",
    "# Define URLs for each institution\n",
    "urls = {\n",
    "    \"UNM\": \"https://hsc.unm.edu/directory/\",\n",
    "    \"Upstate\": \"https://www.upstate.edu/anesthesiology/about-us/index.php\",\n",
    "    \"Westchester\": \"https://www.westchestermedicalcenter.org/anesthesiology-residency-program\"\n",
    "}\n",
    "\n",
    "# Create an empty dictionary to store dataframes for each institution\n",
    "dfs = {}\n",
    "\n",
    "# Function to extract faculty information from a given URL\n",
    "def extract_faculty_data(url, institution_name):\n",
    "    response = requests.get(url)\n",
    "    soup = BeautifulSoup(response.content, 'html.parser')\n",
    "\n",
    "    if \"hsc.unm.edu\" in url:\n",
    "        # Logic for University of New Mexico\n",
    "        pass  # You'll need to add the code for this website\n",
    "\n",
    "    elif \"upstate.edu\" in url:\n",
    "        # Logic for Upstate Medical University\n",
    "        pass  # You'll need to add the code for this website\n",
    "\n",
    "    elif \"westchestermedicalcenter.org\" in url:\n",
    "        faculty_container = soup.find(\"div\", id=\"cpsys_DynamicTab_20cd7230-3562-4f30-a2f9-54b2b3ddb29f_4\")\n",
    "        \n",
    "        print(faculty_container)\n",
    "        # Logic for Westchester Medical Center\n",
    "        pass  # You'll need to add the code for this website\n",
    "\n",
    "    else:\n",
    "        print(f\"Unsupported website: {url}\")\n",
    "        return\n",
    "\n",
    "    # Implement website-specific logic to locate faculty listings and extract names and emails\n",
    "    # ... (You'll need to inspect the HTML structure of each website and adapt the code accordingly) \n",
    "    # Example:\n",
    "    # faculty_elements = soup.find_all(\"div\", class_=\"faculty-member\")\n",
    "    # for element in faculty_elements:\n",
    "    #     first_name = element.find(\"span\", class_=\"first-name\").text\n",
    "    #     last_name = element.find(\"span\", class_=\"last-name\").text\n",
    "    #     email = element.find(\"a\", class_=\"email\")[\"href\"]\n",
    "\n",
    "    # Create a pandas DataFrame to store the extracted data\n",
    "    df = pd.DataFrame(columns=[\"First Name\", \"Last Name\", \"Email\", \"Error\"])\n",
    "    # ... (Populate the DataFrame with the extracted information)\n",
    "    \n",
    "    return df\n",
    "\n",
    "# Iterate through URLs and extract faculty data for each institution\n",
    "for institution_name, url in urls.items():\n",
    "    dfs[institution_name] = extract_faculty_data(url, institution_name)\n",
    "\n",
    "# Create an Excel writer object\n",
    "writer = pd.ExcelWriter(\"anesthesiology_faculty.xlsx\", engine='xlsxwriter')\n",
    "\n",
    "# Write each DataFrame to a separate sheet in the Excel file\n",
    "for institution_name, df in dfs.items():\n",
    "    df.to_excel(writer, sheet_name=institution_name, index=False)\n",
    "\n",
    "# Save the Excel file\n",
    "writer.save()"
   ]
  },
  {
   "cell_type": "code",
   "execution_count": null,
   "id": "1c91a8af-6190-4084-a1e7-94074c496523",
   "metadata": {},
   "outputs": [],
   "source": []
  }
 ],
 "metadata": {
  "kernelspec": {
   "display_name": "Python 3 (ipykernel)",
   "language": "python",
   "name": "python3"
  },
  "language_info": {
   "codemirror_mode": {
    "name": "ipython",
    "version": 3
   },
   "file_extension": ".py",
   "mimetype": "text/x-python",
   "name": "python",
   "nbconvert_exporter": "python",
   "pygments_lexer": "ipython3",
   "version": "3.10.5"
  }
 },
 "nbformat": 4,
 "nbformat_minor": 5
}
